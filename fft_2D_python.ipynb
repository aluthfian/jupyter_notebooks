{
 "cells": [
  {
   "cell_type": "markdown",
   "metadata": {},
   "source": [
    "# Menggunakan FFT 2 Dimensi Pada Python\n",
    "\n",
    "Mari kita mencoba menggunakan FFT 2 dimensi di sini.<br>\n",
    "Pertama-tama, kita import _library_ dari numpy dan matplotlib."
   ]
  },
  {
   "cell_type": "code",
   "execution_count": 1,
   "metadata": {},
   "outputs": [],
   "source": [
    "import matplotlib.pyplot as plt\n",
    "from PIL import Image\n",
    "import requests\n",
    "import numpy as np"
   ]
  },
  {
   "cell_type": "markdown",
   "metadata": {},
   "source": [
    "Kemudian, kita comot gambar dari internet."
   ]
  },
  {
   "cell_type": "code",
   "execution_count": 22,
   "metadata": {},
   "outputs": [],
   "source": [
    "img = Image.open(requests.get(r'https://pbs.twimg.com/media/Ehh80nSU0AEJBDU?format=jpg&name=900x900', stream=True).raw)\n",
    "img = np.array(img)"
   ]
  },
  {
   "cell_type": "markdown",
   "metadata": {},
   "source": [
    "Lalu kita lakukan FFT 2 dimensi pada matriks **img**."
   ]
  },
  {
   "cell_type": "code",
   "execution_count": 23,
   "metadata": {},
   "outputs": [],
   "source": [
    "fft_img = np.fft.fftshift(np.fft.fft2(img[:,:,1], s=None, axes=(-2,-1)))"
   ]
  },
  {
   "cell_type": "markdown",
   "metadata": {},
   "source": [
   "Tampilkan hasil FFT 2 dimensi di sini!"
   ]
  },
  {
   "cell_type": "code",
   "execution_count": 28,
   "metadata": {},
   "outputs": [],
   "source": [
    "plt.imshow(np.log10(np.absolute(fft_img)),extent=[0,1,0,1]);plt.rc('xtick', labelsize=22);plt.rc('ytick', labelsize=22)\n",
    "plt.title(r'Nilai $\\log_{10}$ Dari Spektrum Amplitudo',usetex = True,fontsize=24); plt.rcParams[\"figure.figsize\"] = [10,10]"
   ]
  },
  {
   "cell_type": "code",
   "execution_count": null,
   "metadata": {},
   "outputs": [],
   "source": []
  }
 ],
 "metadata": {
  "kernelspec": {
   "display_name": "Python 3",
   "language": "python",
   "name": "python3"
  },
  "language_info": {
   "codemirror_mode": {
    "name": "ipython",
    "version": 3
   },
   "file_extension": ".py",
   "mimetype": "text/x-python",
   "name": "python",
   "nbconvert_exporter": "python",
   "pygments_lexer": "ipython3",
   "version": "3.8.5"
  }
 },
 "nbformat": 4,
 "nbformat_minor": 4
}
